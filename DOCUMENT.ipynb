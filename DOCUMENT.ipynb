{
 "cells": [
  {
   "cell_type": "markdown",
   "metadata": {},
   "source": [
    "[ Stefano Pigozzi | Tema Data Analytics | Big Data Analytics | A.A. 2022/2023 | Unimore ]"
   ]
  },
  {
   "cell_type": "markdown",
   "metadata": {},
   "source": [
    "# Attività online correlata all'avanzare della pandemia COVID"
   ]
  },
  {
   "cell_type": "markdown",
   "metadata": {},
   "source": [
    "> ### Data processing e exploratory data analytics su dataset provenienti da più sorgenti\n",
    "> \n",
    "> L’attività da svolgere consiste nel:\n",
    "> 1. Scegliere due o più dataset provenienti da due o più sorgenti.  \n",
    ">     * Il dataset finale deve essere costituito almeno da due file.\n",
    "> 2. Usando [pandas](https://pandas.pydata.org/) implementare le operazioni di data processing necessarie (principalmente join e selezioni) per mettere in collegamento i dataset e per preparare i dati al passo successivo\n",
    "> 3. Usando pacchetti Python quali [pandas](https://pandas.pydata.org/), [scipy](https://scipy.org/), [matplotlib](https://matplotlib.org/) e [seaborn](https://seaborn.pydata.org/) implementare attività di data cleaning, exploratory data analysis estraendo dati statistici e di visualizzazione dei risultati attraverso il quale sia possibile \"raccontare qualcosa sui dati\" (storytelling), eventualmente partendo da dei quesiti di ricerca. L'uso\n",
    "dei pacchetti non deve necessariamente essere limitato alle istruzioni viste a lezione. Le documentazioni dei pacchetti stessi e i volumi messi a disposizione su Dolly fornisco spunti d’uso interessanti!\n",
    "> 4. Produrre un notebook Jupyter (https://jupyter.org/) che contenga:\n",
    ">     * una introduzione all’argomento scelto, alle sorgenti dati e agli obiettivi del progetto specificando\n",
    "eventualmente i quesiti di ricerca\n",
    ">     * una sezione per ogni fase del progetto di data analytics"
   ]
  },
  {
   "cell_type": "markdown",
   "metadata": {},
   "source": [
    "## Abstract"
   ]
  },
  {
   "cell_type": "markdown",
   "metadata": {},
   "source": [
    "<!-- TODO -->"
   ]
  },
  {
   "cell_type": "markdown",
   "metadata": {},
   "source": [
    "## Installazione requisiti"
   ]
  },
  {
   "cell_type": "markdown",
   "metadata": {},
   "source": [
    "Per funzionare, questo progetto necessita di alcuni package Python, scaricabili da [PyPI](https://pypi.org/).\n",
    "\n",
    "In particolare:\n",
    "\n",
    "* [numpy](https://pypi.org/project/numpy/1.23.5/)\n",
    "* [scipy](https://pypi.org/project/scipy/1.9.3/)\n",
    "* [pandas](https://pypi.org/project/pandas/1.5.2/)\n",
    "* [matplotlib](https://pypi.org/project/matplotlib/3.6.2/)"
   ]
  },
  {
   "cell_type": "code",
   "execution_count": 1,
   "metadata": {},
   "outputs": [
    {
     "name": "stdout",
     "output_type": "stream",
     "text": [
      "Requirement already satisfied: numpy==1.23.5 in ./.venv/lib/python3.10/site-packages (1.23.5)\n",
      "Requirement already satisfied: scipy==1.9.3 in ./.venv/lib/python3.10/site-packages (1.9.3)\n",
      "Requirement already satisfied: pandas==1.5.2 in ./.venv/lib/python3.10/site-packages (1.5.2)\n",
      "Requirement already satisfied: matplotlib==3.6.2 in ./.venv/lib/python3.10/site-packages (3.6.2)\n",
      "Requirement already satisfied: pytz>=2020.1 in ./.venv/lib/python3.10/site-packages (from pandas==1.5.2) (2022.6)\n",
      "Requirement already satisfied: python-dateutil>=2.8.1 in ./.venv/lib/python3.10/site-packages (from pandas==1.5.2) (2.8.2)\n",
      "Requirement already satisfied: kiwisolver>=1.0.1 in ./.venv/lib/python3.10/site-packages (from matplotlib==3.6.2) (1.4.4)\n",
      "Requirement already satisfied: cycler>=0.10 in ./.venv/lib/python3.10/site-packages (from matplotlib==3.6.2) (0.11.0)\n",
      "Requirement already satisfied: packaging>=20.0 in ./.venv/lib/python3.10/site-packages (from matplotlib==3.6.2) (21.3)\n",
      "Requirement already satisfied: pyparsing>=2.2.1 in ./.venv/lib/python3.10/site-packages (from matplotlib==3.6.2) (3.0.9)\n",
      "Requirement already satisfied: contourpy>=1.0.1 in ./.venv/lib/python3.10/site-packages (from matplotlib==3.6.2) (1.0.6)\n",
      "Requirement already satisfied: fonttools>=4.22.0 in ./.venv/lib/python3.10/site-packages (from matplotlib==3.6.2) (4.38.0)\n",
      "Requirement already satisfied: pillow>=6.2.0 in ./.venv/lib/python3.10/site-packages (from matplotlib==3.6.2) (9.3.0)\n",
      "Requirement already satisfied: six>=1.5 in ./.venv/lib/python3.10/site-packages (from python-dateutil>=2.8.1->pandas==1.5.2) (1.16.0)\n",
      "Note: you may need to restart the kernel to use updated packages.\n"
     ]
    }
   ],
   "source": [
    "%pip install numpy==1.23.5 scipy==1.9.3 pandas==1.5.2 matplotlib==3.6.2"
   ]
  },
  {
   "cell_type": "markdown",
   "metadata": {},
   "source": [
    "### Import"
   ]
  },
  {
   "cell_type": "markdown",
   "metadata": {},
   "source": [
    "Nella seguenti celle, si effettua l'`import` di tutti i package utilizzati, in modo da poterli utilizzare nel presente documento Jupyter."
   ]
  },
  {
   "cell_type": "code",
   "execution_count": 2,
   "metadata": {
    "collapsed": false,
    "jupyter": {
     "outputs_hidden": false
    }
   },
   "outputs": [
    {
     "data": {
      "text/plain": [
       "<module 'numpy' from '/store/Documents/Workspaces/Steffo99/unimore-bda-3/.venv/lib/python3.10/site-packages/numpy/__init__.py'>"
      ]
     },
     "execution_count": 2,
     "metadata": {},
     "output_type": "execute_result"
    }
   ],
   "source": [
    "import numpy\n",
    "numpy"
   ]
  },
  {
   "cell_type": "code",
   "execution_count": 3,
   "metadata": {
    "collapsed": false,
    "jupyter": {
     "outputs_hidden": false
    }
   },
   "outputs": [
    {
     "data": {
      "text/plain": [
       "<module 'scipy' from '/store/Documents/Workspaces/Steffo99/unimore-bda-3/.venv/lib/python3.10/site-packages/scipy/__init__.py'>"
      ]
     },
     "execution_count": 3,
     "metadata": {},
     "output_type": "execute_result"
    }
   ],
   "source": [
    "import scipy\n",
    "scipy"
   ]
  },
  {
   "cell_type": "code",
   "execution_count": 4,
   "metadata": {
    "collapsed": false,
    "jupyter": {
     "outputs_hidden": false
    }
   },
   "outputs": [
    {
     "data": {
      "text/plain": [
       "<module 'pandas' from '/store/Documents/Workspaces/Steffo99/unimore-bda-3/.venv/lib/python3.10/site-packages/pandas/__init__.py'>"
      ]
     },
     "execution_count": 4,
     "metadata": {},
     "output_type": "execute_result"
    }
   ],
   "source": [
    "import pandas\n",
    "pandas"
   ]
  },
  {
   "cell_type": "code",
   "execution_count": 5,
   "metadata": {
    "collapsed": false,
    "jupyter": {
     "outputs_hidden": false
    }
   },
   "outputs": [
    {
     "data": {
      "text/plain": [
       "<module 'matplotlib' from '/store/Documents/Workspaces/Steffo99/unimore-bda-3/.venv/lib/python3.10/site-packages/matplotlib/__init__.py'>"
      ]
     },
     "execution_count": 5,
     "metadata": {},
     "output_type": "execute_result"
    }
   ],
   "source": [
    "import matplotlib\n",
    "import matplotlib.pyplot as plt\n",
    "%matplotlib inline\n",
    "matplotlib"
   ]
  },
  {
   "cell_type": "markdown",
   "metadata": {},
   "source": [
    "Si importano anche alcuni package della standard library di Python utili allo sviluppo:"
   ]
  },
  {
   "cell_type": "code",
   "execution_count": 6,
   "metadata": {
    "collapsed": false,
    "jupyter": {
     "outputs_hidden": false
    }
   },
   "outputs": [
    {
     "data": {
      "text/plain": [
       "<module 'pathlib' from '/usr/lib/python3.10/pathlib.py'>"
      ]
     },
     "execution_count": 6,
     "metadata": {},
     "output_type": "execute_result"
    }
   ],
   "source": [
    "import pathlib\n",
    "pathlib"
   ]
  },
  {
   "cell_type": "code",
   "execution_count": 7,
   "metadata": {
    "collapsed": false,
    "jupyter": {
     "outputs_hidden": false
    }
   },
   "outputs": [
    {
     "data": {
      "text/plain": [
       "<module 'typing' from '/usr/lib/python3.10/typing.py'>"
      ]
     },
     "execution_count": 7,
     "metadata": {},
     "output_type": "execute_result"
    }
   ],
   "source": [
    "import typing as t\n",
    "t"
   ]
  },
  {
   "cell_type": "code",
   "execution_count": 8,
   "metadata": {
    "collapsed": false,
    "jupyter": {
     "outputs_hidden": false
    }
   },
   "outputs": [
    {
     "data": {
      "text/plain": [
       "<module 'io' from '/usr/lib/python3.10/io.py'>"
      ]
     },
     "execution_count": 8,
     "metadata": {},
     "output_type": "execute_result"
    }
   ],
   "source": [
    "import io\n",
    "io"
   ]
  },
  {
   "cell_type": "code",
   "execution_count": 9,
   "metadata": {
    "collapsed": false,
    "jupyter": {
     "outputs_hidden": false
    }
   },
   "outputs": [
    {
     "data": {
      "text/plain": [
       "<module 'json' from '/usr/lib/python3.10/json/__init__.py'>"
      ]
     },
     "execution_count": 9,
     "metadata": {},
     "output_type": "execute_result"
    }
   ],
   "source": [
    "import json\n",
    "json"
   ]
  },
  {
   "cell_type": "code",
   "execution_count": 10,
   "metadata": {
    "collapsed": false,
    "jupyter": {
     "outputs_hidden": false
    }
   },
   "outputs": [
    {
     "data": {
      "text/plain": [
       "<module 'datetime' from '/usr/lib/python3.10/datetime.py'>"
      ]
     },
     "execution_count": 10,
     "metadata": {},
     "output_type": "execute_result"
    }
   ],
   "source": [
    "import datetime\n",
    "datetime"
   ]
  },
  {
   "cell_type": "markdown",
   "metadata": {},
   "source": [
    "## Introduzione"
   ]
  },
  {
   "cell_type": "markdown",
   "metadata": {},
   "source": [
    "<!-- TODO -->"
   ]
  },
  {
   "cell_type": "markdown",
   "metadata": {},
   "source": [
    "## Fonti di dati"
   ]
  },
  {
   "cell_type": "markdown",
   "metadata": {},
   "source": [
    "### Google Trends"
   ]
  },
  {
   "cell_type": "markdown",
   "metadata": {},
   "source": [
    "[Google Trends](https://trends.google.com/trends/) è un servizio messo a disposizione da Google che permette di ispezionare il volume di ricerca nel tempo e nello spazio per dati termini.\n",
    "\n",
    "Selezionato un termine o un argomento di ricerca, è possibile esportare un file CSV contenente il volume relativo di ricerca nel tempo, con !!!intervalli!!! variabili da 1 mese a 1 minuto."
   ]
  },
  {
   "cell_type": "markdown",
   "metadata": {},
   "source": [
    "#### Esempio"
   ]
  },
  {
   "cell_type": "markdown",
   "metadata": {},
   "source": [
    "Si allega un esempio di file CSV [esportato da Google Trends per la ricerca \"Google\"](https://trends.google.com/trends/explore?date=all&q=Google):\n",
    "\n",
    "```csv\n",
    "Categoria: Tutte le categorie\n",
    "\n",
    "Mese,Google: (Tutto il mondo)\n",
    "2004-01,6\n",
    "2004-02,6\n",
    "2004-03,7\n",
    "2004-04,8\n",
    "2004-05,7\n",
    "2004-06,7\n",
    "2004-07,7\n",
    "2004-08,7\n",
    "2004-09,8\n",
    "2004-10,8\n",
    "2004-11,8\n",
    "2004-12,8\n",
    "2005-01,8\n",
    "2005-02,9\n",
    "[...]\n",
    "```"
   ]
  },
  {
   "cell_type": "markdown",
   "metadata": {},
   "source": [
    "#### Importazione dati"
   ]
  },
  {
   "cell_type": "markdown",
   "metadata": {},
   "source": [
    "Si definisce una funzione, `import_gtrends`, in grado di caricare dati scaricati da Google Trends in un [`pandas.DataFrame`](https://pandas.pydata.org/docs/reference/api/pandas.DataFrame.html)."
   ]
  },
  {
   "cell_type": "code",
   "execution_count": 11,
   "metadata": {
    "collapsed": false,
    "jupyter": {
     "outputs_hidden": false
    }
   },
   "outputs": [],
   "source": [
    "def import_gtrends(fd: t.IO[str]) -> pandas.DataFrame:\n",
    "    \"\"\"\n",
    "    Import a Google Trends CSV file into a :class:`pandas.Series`.\n",
    "\n",
    "    :param fd: The file descriptor of the CSV file.\n",
    "    :return: The imported :class:`pandas.Series`.\n",
    "    \"\"\"\n",
    "    return pandas.read_csv(fd, sep=\",\", header=1)"
   ]
  },
  {
   "cell_type": "markdown",
   "metadata": {},
   "source": [
    "Si fornisce un esempio del funzionamento di questa funzione:"
   ]
  },
  {
   "cell_type": "code",
   "execution_count": 12,
   "metadata": {
    "collapsed": false,
    "jupyter": {
     "outputs_hidden": false
    }
   },
   "outputs": [
    {
     "data": {
      "text/html": [
       "<div>\n",
       "<style scoped>\n",
       "    .dataframe tbody tr th:only-of-type {\n",
       "        vertical-align: middle;\n",
       "    }\n",
       "\n",
       "    .dataframe tbody tr th {\n",
       "        vertical-align: top;\n",
       "    }\n",
       "\n",
       "    .dataframe thead th {\n",
       "        text-align: right;\n",
       "    }\n",
       "</style>\n",
       "<table border=\"1\" class=\"dataframe\">\n",
       "  <thead>\n",
       "    <tr style=\"text-align: right;\">\n",
       "      <th></th>\n",
       "      <th>Month</th>\n",
       "      <th>Google: (Worldwide)</th>\n",
       "    </tr>\n",
       "  </thead>\n",
       "  <tbody>\n",
       "    <tr>\n",
       "      <th>0</th>\n",
       "      <td>2004-01</td>\n",
       "      <td>6</td>\n",
       "    </tr>\n",
       "    <tr>\n",
       "      <th>1</th>\n",
       "      <td>2004-02</td>\n",
       "      <td>6</td>\n",
       "    </tr>\n",
       "    <tr>\n",
       "      <th>2</th>\n",
       "      <td>2004-03</td>\n",
       "      <td>6</td>\n",
       "    </tr>\n",
       "    <tr>\n",
       "      <th>3</th>\n",
       "      <td>2004-04</td>\n",
       "      <td>8</td>\n",
       "    </tr>\n",
       "    <tr>\n",
       "      <th>4</th>\n",
       "      <td>2004-05</td>\n",
       "      <td>7</td>\n",
       "    </tr>\n",
       "    <tr>\n",
       "      <th>...</th>\n",
       "      <td>...</td>\n",
       "      <td>...</td>\n",
       "    </tr>\n",
       "    <tr>\n",
       "      <th>222</th>\n",
       "      <td>2022-07</td>\n",
       "      <td>50</td>\n",
       "    </tr>\n",
       "    <tr>\n",
       "      <th>223</th>\n",
       "      <td>2022-08</td>\n",
       "      <td>51</td>\n",
       "    </tr>\n",
       "    <tr>\n",
       "      <th>224</th>\n",
       "      <td>2022-09</td>\n",
       "      <td>55</td>\n",
       "    </tr>\n",
       "    <tr>\n",
       "      <th>225</th>\n",
       "      <td>2022-10</td>\n",
       "      <td>54</td>\n",
       "    </tr>\n",
       "    <tr>\n",
       "      <th>226</th>\n",
       "      <td>2022-11</td>\n",
       "      <td>54</td>\n",
       "    </tr>\n",
       "  </tbody>\n",
       "</table>\n",
       "<p>227 rows × 2 columns</p>\n",
       "</div>"
      ],
      "text/plain": [
       "       Month  Google: (Worldwide)\n",
       "0    2004-01                    6\n",
       "1    2004-02                    6\n",
       "2    2004-03                    6\n",
       "3    2004-04                    8\n",
       "4    2004-05                    7\n",
       "..       ...                  ...\n",
       "222  2022-07                   50\n",
       "223  2022-08                   51\n",
       "224  2022-09                   55\n",
       "225  2022-10                   54\n",
       "226  2022-11                   54\n",
       "\n",
       "[227 rows x 2 columns]"
      ]
     },
     "execution_count": 12,
     "metadata": {},
     "output_type": "execute_result"
    }
   ],
   "source": [
    "with open(\"data/gtrends/google-worldwide.csv\") as file:\n",
    "    google_worldwide = import_gtrends(file)\n",
    "\n",
    "google_worldwide"
   ]
  },
  {
   "cell_type": "code",
   "execution_count": 13,
   "metadata": {
    "tags": [
     "hide-input",
     "hide-output"
    ]
   },
   "outputs": [],
   "source": [
    "# Cleanup example data\n",
    "del file\n",
    "del google_worldwide"
   ]
  },
  {
   "cell_type": "markdown",
   "metadata": {},
   "source": [
    "### Telegram"
   ]
  },
  {
   "cell_type": "markdown",
   "metadata": {},
   "source": [
    "[Telegram](https://telegram.org/), per conformità al GDPR, permette di [esportare i contenuti di una o più chat](https://t.me/gdprbot) in cui si è presenti in un file JSON leggibile da calcolatori."
   ]
  },
  {
   "cell_type": "markdown",
   "metadata": {},
   "source": [
    "#### Esempio"
   ]
  },
  {
   "cell_type": "markdown",
   "metadata": {},
   "source": [
    "Si allega un esempio di file JSON esportato da Telegram per una chat creata appositamente per lo scopo:\n",
    "\n",
    "```json\n",
    "{\n",
    "    \"name\": \"Esempio\",\n",
    "    \"type\": \"private_group\",\n",
    "    \"id\": 660884870,\n",
    "    \"messages\": [\n",
    "        {\n",
    "            \"id\": 1531670,\n",
    "            \"type\": \"service\",\n",
    "            \"date\": \"2022-12-02T14:49:03\",\n",
    "            \"date_unixtime\": \"1669988943\",\n",
    "            \"actor\": \"Steffo\",\n",
    "            \"actor_id\": \"user25167391\",\n",
    "            \"action\": \"create_group\",\n",
    "            \"title\": \"Esempio\",\n",
    "            \"members\": [\n",
    "                \"Steffo\"\n",
    "            ],\n",
    "            \"text\": \"\",\n",
    "            \"text_entities\": []\n",
    "        },\n",
    "        {\n",
    "            \"id\": 1531671,\n",
    "            \"type\": \"message\",\n",
    "            \"date\": \"2022-12-02T14:49:11\",\n",
    "            \"date_unixtime\": \"1669988951\",\n",
    "            \"from\": \"Steffo\",\n",
    "            \"from_id\": \"user25167391\",\n",
    "            \"text\": \"Questo è un messaggio di esempio.\",\n",
    "            \"text_entities\": [\n",
    "                {\n",
    "                    \"type\": \"plain\",\n",
    "                    \"text\": \"Questo è un messaggio di esempio.\"\n",
    "                }\n",
    "            ]\n",
    "        }\n",
    "    ]\n",
    "}\n",
    "```"
   ]
  },
  {
   "cell_type": "markdown",
   "metadata": {},
   "source": [
    "#### Importazione dati"
   ]
  },
  {
   "cell_type": "markdown",
   "metadata": {},
   "source": [
    "Il file esportato da Telegram contiene tutte le informazioni di ogni evento di quella chat, inclusi gli autori e i contenuti dei messaggi: sono **dati sensibili**, e non possono essere inclusi per motivi di privacy.\n",
    "\n",
    "Visto però che l'unico dato rilevante ai fini di questa ricerca è la **data di invio di ciascun messaggio**, tutte le informazioni possono essere rimosse dal dataset, rendendolo così privo di informazioni sensibili."
   ]
  },
  {
   "cell_type": "markdown",
   "metadata": {},
   "source": [
    "Si definisce una funzione, `anonymize_telegram`, in grado di leggere i file JSON esportati da Telegram e di restituire da essi una lista di date in cui sono stati inviati messaggi."
   ]
  },
  {
   "cell_type": "code",
   "execution_count": 14,
   "metadata": {
    "collapsed": false,
    "jupyter": {
     "outputs_hidden": false
    }
   },
   "outputs": [],
   "source": [
    "def anonymize_telegram(fd: t.IO[str]) -> list[datetime.datetime]:\n",
    "    \"\"\"\n",
    "    Read a Telegram GDPR export file, stripping everything but the messages' dates from it, returning a :class:`list` of :class:`str`s.\n",
    "\n",
    "    :param fd: The input file descriptor.\n",
    "    :returns: The list of :class:`str`s.\n",
    "    \"\"\"\n",
    "    data = json.load(fd)\n",
    "    msgs = data[\"messages\"]\n",
    "\n",
    "    def msg_to_date(msg: dict[str, t.Any]) -> str:\n",
    "        \"\"\"\n",
    "        Convert a message :class:`dict` to the :class:`datetime.datetime` of its creation.\n",
    "\n",
    "        :param msg: The message to convert.\n",
    "        :return: The date the message was sent on.\n",
    "        \"\"\"\n",
    "        return msg[\"date\"]\n",
    "\n",
    "    return list(map(msg_to_date, msgs))"
   ]
  },
  {
   "cell_type": "markdown",
   "metadata": {},
   "source": [
    "Si fornisce un esempio del funzionamento di questa funzione:"
   ]
  },
  {
   "cell_type": "code",
   "execution_count": 15,
   "metadata": {
    "collapsed": false,
    "jupyter": {
     "outputs_hidden": false
    }
   },
   "outputs": [
    {
     "data": {
      "text/plain": [
       "['2022-12-02T14:49:03', '2022-12-02T14:49:11']"
      ]
     },
     "execution_count": 15,
     "metadata": {},
     "output_type": "execute_result"
    }
   ],
   "source": [
    "with open(\"data/telegram/example.json\") as file:\n",
    "    telegram_example = anonymize_telegram(file)\n",
    "\n",
    "telegram_example"
   ]
  },
  {
   "cell_type": "markdown",
   "metadata": {},
   "source": [
    "I dati così anonimizzati possono essere allegati alla relazione: si definisce una funzione `store_telegramanon` in grado di archiviare le liste di date create dalla precedente funzione in un file formato Pickle."
   ]
  },
  {
   "cell_type": "code",
   "execution_count": 16,
   "metadata": {
    "collapsed": false,
    "jupyter": {
     "outputs_hidden": false
    }
   },
   "outputs": [],
   "source": [
    "def store_telegramanon(l: list[str], fd: t.IO[str]) -> None:\n",
    "    \"\"\"\n",
    "    Store a :class:`list` generated by :func:`anonymize_telegram` in a binary file descriptor.\n",
    "\n",
    "    :param l: The :class:`list` to store.\n",
    "    :param fd: The file descriptor to write to.\n",
    "    \"\"\"\n",
    "    json.dump(l, fd)"
   ]
  },
  {
   "cell_type": "markdown",
   "metadata": {},
   "source": [
    "Si fornisce un esempio del funzionamento di questa funzione:"
   ]
  },
  {
   "cell_type": "code",
   "execution_count": 17,
   "metadata": {
    "collapsed": false,
    "jupyter": {
     "outputs_hidden": false
    }
   },
   "outputs": [],
   "source": [
    "with open(\"data/telegramanon/example.json\", \"w\") as file:\n",
    "   store_telegramanon(telegram_example, file)"
   ]
  },
  {
   "cell_type": "markdown",
   "metadata": {},
   "source": [
    "Infine, si definisce una funzione, `import_telegramanon`, in grado di leggere i dati precedentemente archiviati in un [`pandas.DataFrame`](https://pandas.pydata.org/docs/reference/api/pandas.DataFrame.html):"
   ]
  },
  {
   "cell_type": "code",
   "execution_count": 18,
   "metadata": {
    "collapsed": false,
    "jupyter": {
     "outputs_hidden": false
    }
   },
   "outputs": [],
   "source": [
    "def import_telegramanon(fd: t.IO[bytes]) -> pandas.DataFrame:\n",
    "    \"\"\"\n",
    "    Import a :class:`list` stored by :func:`store_telegramanon` into a :class:`pandas.DataFrame`.\n",
    "\n",
    "    :param fd: The file descriptor to read from.\n",
    "    :return: The imported :class:`pandas.Series`.\n",
    "    \"\"\"\n",
    "    data = json.load(fd)\n",
    "    dataframe = pandas.DataFrame(data)\n",
    "    dataframe[\"date\"] = pandas.to_datetime(dataframe[0])\n",
    "    del dataframe[0]\n",
    "    return dataframe"
   ]
  },
  {
   "cell_type": "markdown",
   "metadata": {},
   "source": [
    "Ancora, si fornisce un esempio del funzionamento di questa funzione:"
   ]
  },
  {
   "cell_type": "code",
   "execution_count": 19,
   "metadata": {
    "collapsed": false,
    "jupyter": {
     "outputs_hidden": false
    }
   },
   "outputs": [
    {
     "data": {
      "text/html": [
       "<div>\n",
       "<style scoped>\n",
       "    .dataframe tbody tr th:only-of-type {\n",
       "        vertical-align: middle;\n",
       "    }\n",
       "\n",
       "    .dataframe tbody tr th {\n",
       "        vertical-align: top;\n",
       "    }\n",
       "\n",
       "    .dataframe thead th {\n",
       "        text-align: right;\n",
       "    }\n",
       "</style>\n",
       "<table border=\"1\" class=\"dataframe\">\n",
       "  <thead>\n",
       "    <tr style=\"text-align: right;\">\n",
       "      <th></th>\n",
       "      <th>date</th>\n",
       "    </tr>\n",
       "  </thead>\n",
       "  <tbody>\n",
       "    <tr>\n",
       "      <th>0</th>\n",
       "      <td>2022-12-02 14:49:03</td>\n",
       "    </tr>\n",
       "    <tr>\n",
       "      <th>1</th>\n",
       "      <td>2022-12-02 14:49:11</td>\n",
       "    </tr>\n",
       "  </tbody>\n",
       "</table>\n",
       "</div>"
      ],
      "text/plain": [
       "                 date\n",
       "0 2022-12-02 14:49:03\n",
       "1 2022-12-02 14:49:11"
      ]
     },
     "execution_count": 19,
     "metadata": {},
     "output_type": "execute_result"
    }
   ],
   "source": [
    "with open(\"data/telegramanon/example.json\", \"rb\") as file:\n",
    "    telegramanon_example = import_telegramanon(file)\n",
    "\n",
    "telegramanon_example"
   ]
  },
  {
   "cell_type": "code",
   "execution_count": 20,
   "metadata": {
    "collapsed": false,
    "jupyter": {
     "outputs_hidden": false
    },
    "tags": [
     "hide-input",
     "hide-output"
    ]
   },
   "outputs": [],
   "source": [
    "# Cleanup example data\n",
    "del file\n",
    "del telegram_example\n",
    "del telegramanon_example"
   ]
  },
  {
   "cell_type": "markdown",
   "metadata": {},
   "source": [
    "### Dipartimento della Protezione Civile della Presidenza del Consiglio dei Ministri"
   ]
  },
  {
   "cell_type": "markdown",
   "metadata": {},
   "source": [
    "Il Dipartimento della Protezione Civile [mette a disposizione un repository Git contenente i dati relativi alla diffusione del COVID-19 in Italia](https://github.com/pcm-dpc/COVID-19).\n",
    "\n",
    "All'interno del repository Git, i dati sono disponibili in formato CSV e JSON."
   ]
  },
  {
   "cell_type": "markdown",
   "metadata": {},
   "source": [
    "Il repository è allegato a questo progetto come Git Submodule.\n",
    "\n",
    "Essendo di dimensioni significative, di default non viene scaricato da Git, ma è possibile effetuarne il download con i seguente comandi:"
   ]
  },
  {
   "cell_type": "code",
   "execution_count": 21,
   "metadata": {
    "collapsed": false,
    "jupyter": {
     "outputs_hidden": false
    }
   },
   "outputs": [],
   "source": [
    "!git submodule init\n",
    "!git submodule update"
   ]
  },
  {
   "cell_type": "markdown",
   "metadata": {},
   "source": [
    "#### Esempio"
   ]
  },
  {
   "cell_type": "markdown",
   "metadata": {},
   "source": [
    "Si riporta un esempio di oggetto del file JSON `data/covid19/dati-json/dpc-covid19-ita-andamento-nazionale.json`:\n",
    "\n",
    "```json\n",
    "{\n",
    "    \"data\":\"2022-12-01T17:00:00\",\n",
    "    \"stato\":\"ITA\",\n",
    "    \"ricoverati_con_sintomi\":8458,\n",
    "    \"terapia_intensiva\":320,\n",
    "    \"totale_ospedalizzati\":8778,\n",
    "    \"isolamento_domiciliare\":498391,\n",
    "    \"totale_positivi\":507169,\n",
    "    \"variazione_totale_positivi\":4342,\n",
    "    \"nuovi_positivi\":36598,\n",
    "    \"dimessi_guariti\":23799178,\n",
    "    \"deceduti\":181733,\n",
    "    \"casi_da_sospetto_diagnostico\":\"\",\n",
    "    \"casi_da_screening\":\"\",\n",
    "    \"totale_casi\":24488080,\n",
    "    \"tamponi\":258382332,\n",
    "    \"casi_testati\":66089134,\n",
    "    \"note\":\"\",\n",
    "    \"ingressi_terapia_intensiva\":51,\n",
    "    \"note_test\":\"\",\n",
    "    \"note_casi\":\"\",\n",
    "    \"totale_positivi_test_molecolare\":9573057,\n",
    "    \"totale_positivi_test_antigenico_rapido\":14915023,\n",
    "    \"tamponi_test_molecolare\":98917043,\n",
    "    \"tamponi_test_antigenico_rapido\":159465289\n",
    "}\n",
    "```"
   ]
  },
  {
   "cell_type": "markdown",
   "metadata": {},
   "source": [
    "#### Importazione dati"
   ]
  },
  {
   "cell_type": "markdown",
   "metadata": {},
   "source": [
    "Ai fini di questa relazione, si è particolarmente interessati ai dati contenuti nel file `data/covid19/dati-json/dpc-covid19-ita-andamento-nazionale.json`, che contiene le statistiche delle infezioni di COVID-19 a livello nazionale."
   ]
  },
  {
   "cell_type": "markdown",
   "metadata": {},
   "source": [
    "Si definisce una funzione `import_covid19`, che importa i dati di quel file JSON in un [`pandas.DataFrame`](https://pandas.pydata.org/docs/reference/api/pandas.DataFrame.html):"
   ]
  },
  {
   "cell_type": "code",
   "execution_count": 22,
   "metadata": {
    "collapsed": false,
    "jupyter": {
     "outputs_hidden": false
    }
   },
   "outputs": [],
   "source": [
    "def import_covid19(fd: t.IO[str]) -> pandas.DataFrame:\n",
    "    \"\"\"\n",
    "    Import data from the given file descriptor to ``dpc-covid19-ita-andamento-nazionale.json`` into a :class:`pandas.DataFrame`.\n",
    "\n",
    "    :param fd: The file descriptor.\n",
    "    :return: The :class:`pandas.DataFrame`.\n",
    "    \"\"\"\n",
    "    dataframe = pandas.read_json(fd)\n",
    "    dataframe[\"data\"] = pandas.to_datetime(dataframe[\"data\"])\n",
    "    return dataframe"
   ]
  },
  {
   "cell_type": "markdown",
   "metadata": {},
   "source": [
    "## Analisi esploratoria iniziale"
   ]
  },
  {
   "cell_type": "markdown",
   "metadata": {},
   "source": [
    "### Importazione dati dell'andamento dei contagi di COVID-19 in Italia"
   ]
  },
  {
   "cell_type": "markdown",
   "metadata": {},
   "source": [
    "Si effettua immediatamente l'importazione dei dati del COVID-19 all'interno della variabile `frame_covid19`:"
   ]
  },
  {
   "cell_type": "code",
   "execution_count": 23,
   "metadata": {
    "collapsed": false,
    "jupyter": {
     "outputs_hidden": false
    }
   },
   "outputs": [
    {
     "data": {
      "text/html": [
       "<div>\n",
       "<style scoped>\n",
       "    .dataframe tbody tr th:only-of-type {\n",
       "        vertical-align: middle;\n",
       "    }\n",
       "\n",
       "    .dataframe tbody tr th {\n",
       "        vertical-align: top;\n",
       "    }\n",
       "\n",
       "    .dataframe thead th {\n",
       "        text-align: right;\n",
       "    }\n",
       "</style>\n",
       "<table border=\"1\" class=\"dataframe\">\n",
       "  <thead>\n",
       "    <tr style=\"text-align: right;\">\n",
       "      <th></th>\n",
       "      <th>data</th>\n",
       "      <th>stato</th>\n",
       "      <th>ricoverati_con_sintomi</th>\n",
       "      <th>terapia_intensiva</th>\n",
       "      <th>totale_ospedalizzati</th>\n",
       "      <th>isolamento_domiciliare</th>\n",
       "      <th>totale_positivi</th>\n",
       "      <th>variazione_totale_positivi</th>\n",
       "      <th>nuovi_positivi</th>\n",
       "      <th>dimessi_guariti</th>\n",
       "      <th>...</th>\n",
       "      <th>tamponi</th>\n",
       "      <th>casi_testati</th>\n",
       "      <th>note</th>\n",
       "      <th>ingressi_terapia_intensiva</th>\n",
       "      <th>note_test</th>\n",
       "      <th>note_casi</th>\n",
       "      <th>totale_positivi_test_molecolare</th>\n",
       "      <th>totale_positivi_test_antigenico_rapido</th>\n",
       "      <th>tamponi_test_molecolare</th>\n",
       "      <th>tamponi_test_antigenico_rapido</th>\n",
       "    </tr>\n",
       "  </thead>\n",
       "  <tbody>\n",
       "    <tr>\n",
       "      <th>0</th>\n",
       "      <td>2020-02-24 18:00:00</td>\n",
       "      <td>ITA</td>\n",
       "      <td>101</td>\n",
       "      <td>26</td>\n",
       "      <td>127</td>\n",
       "      <td>94</td>\n",
       "      <td>221</td>\n",
       "      <td>0</td>\n",
       "      <td>221</td>\n",
       "      <td>1</td>\n",
       "      <td>...</td>\n",
       "      <td>4324</td>\n",
       "      <td>NaN</td>\n",
       "      <td>None</td>\n",
       "      <td>NaN</td>\n",
       "      <td>NaN</td>\n",
       "      <td>NaN</td>\n",
       "      <td>NaN</td>\n",
       "      <td>NaN</td>\n",
       "      <td>NaN</td>\n",
       "      <td>NaN</td>\n",
       "    </tr>\n",
       "    <tr>\n",
       "      <th>1</th>\n",
       "      <td>2020-02-25 18:00:00</td>\n",
       "      <td>ITA</td>\n",
       "      <td>114</td>\n",
       "      <td>35</td>\n",
       "      <td>150</td>\n",
       "      <td>162</td>\n",
       "      <td>311</td>\n",
       "      <td>90</td>\n",
       "      <td>93</td>\n",
       "      <td>1</td>\n",
       "      <td>...</td>\n",
       "      <td>8623</td>\n",
       "      <td>NaN</td>\n",
       "      <td>None</td>\n",
       "      <td>NaN</td>\n",
       "      <td>NaN</td>\n",
       "      <td>NaN</td>\n",
       "      <td>NaN</td>\n",
       "      <td>NaN</td>\n",
       "      <td>NaN</td>\n",
       "      <td>NaN</td>\n",
       "    </tr>\n",
       "    <tr>\n",
       "      <th>2</th>\n",
       "      <td>2020-02-26 18:00:00</td>\n",
       "      <td>ITA</td>\n",
       "      <td>128</td>\n",
       "      <td>36</td>\n",
       "      <td>164</td>\n",
       "      <td>221</td>\n",
       "      <td>385</td>\n",
       "      <td>74</td>\n",
       "      <td>78</td>\n",
       "      <td>3</td>\n",
       "      <td>...</td>\n",
       "      <td>9587</td>\n",
       "      <td>NaN</td>\n",
       "      <td>None</td>\n",
       "      <td>NaN</td>\n",
       "      <td>NaN</td>\n",
       "      <td>NaN</td>\n",
       "      <td>NaN</td>\n",
       "      <td>NaN</td>\n",
       "      <td>NaN</td>\n",
       "      <td>NaN</td>\n",
       "    </tr>\n",
       "    <tr>\n",
       "      <th>3</th>\n",
       "      <td>2020-02-27 18:00:00</td>\n",
       "      <td>ITA</td>\n",
       "      <td>248</td>\n",
       "      <td>56</td>\n",
       "      <td>304</td>\n",
       "      <td>284</td>\n",
       "      <td>588</td>\n",
       "      <td>203</td>\n",
       "      <td>250</td>\n",
       "      <td>45</td>\n",
       "      <td>...</td>\n",
       "      <td>12014</td>\n",
       "      <td>NaN</td>\n",
       "      <td>None</td>\n",
       "      <td>NaN</td>\n",
       "      <td>NaN</td>\n",
       "      <td>NaN</td>\n",
       "      <td>NaN</td>\n",
       "      <td>NaN</td>\n",
       "      <td>NaN</td>\n",
       "      <td>NaN</td>\n",
       "    </tr>\n",
       "    <tr>\n",
       "      <th>4</th>\n",
       "      <td>2020-02-28 18:00:00</td>\n",
       "      <td>ITA</td>\n",
       "      <td>345</td>\n",
       "      <td>64</td>\n",
       "      <td>409</td>\n",
       "      <td>412</td>\n",
       "      <td>821</td>\n",
       "      <td>233</td>\n",
       "      <td>238</td>\n",
       "      <td>46</td>\n",
       "      <td>...</td>\n",
       "      <td>15695</td>\n",
       "      <td>NaN</td>\n",
       "      <td>None</td>\n",
       "      <td>NaN</td>\n",
       "      <td>NaN</td>\n",
       "      <td>NaN</td>\n",
       "      <td>NaN</td>\n",
       "      <td>NaN</td>\n",
       "      <td>NaN</td>\n",
       "      <td>NaN</td>\n",
       "    </tr>\n",
       "    <tr>\n",
       "      <th>...</th>\n",
       "      <td>...</td>\n",
       "      <td>...</td>\n",
       "      <td>...</td>\n",
       "      <td>...</td>\n",
       "      <td>...</td>\n",
       "      <td>...</td>\n",
       "      <td>...</td>\n",
       "      <td>...</td>\n",
       "      <td>...</td>\n",
       "      <td>...</td>\n",
       "      <td>...</td>\n",
       "      <td>...</td>\n",
       "      <td>...</td>\n",
       "      <td>...</td>\n",
       "      <td>...</td>\n",
       "      <td>...</td>\n",
       "      <td>...</td>\n",
       "      <td>...</td>\n",
       "      <td>...</td>\n",
       "      <td>...</td>\n",
       "      <td>...</td>\n",
       "    </tr>\n",
       "    <tr>\n",
       "      <th>1007</th>\n",
       "      <td>2022-11-27 17:00:00</td>\n",
       "      <td>ITA</td>\n",
       "      <td>7865</td>\n",
       "      <td>274</td>\n",
       "      <td>8139</td>\n",
       "      <td>489914</td>\n",
       "      <td>498053</td>\n",
       "      <td>-194</td>\n",
       "      <td>23956</td>\n",
       "      <td>23672245</td>\n",
       "      <td>...</td>\n",
       "      <td>257593104</td>\n",
       "      <td>65956542.0</td>\n",
       "      <td>None</td>\n",
       "      <td>39.0</td>\n",
       "      <td>NaN</td>\n",
       "      <td>NaN</td>\n",
       "      <td>9554305.0</td>\n",
       "      <td>14797315.0</td>\n",
       "      <td>98786040.0</td>\n",
       "      <td>158807064.0</td>\n",
       "    </tr>\n",
       "    <tr>\n",
       "      <th>1008</th>\n",
       "      <td>2022-11-28 17:00:00</td>\n",
       "      <td>ITA</td>\n",
       "      <td>8040</td>\n",
       "      <td>283</td>\n",
       "      <td>8323</td>\n",
       "      <td>481655</td>\n",
       "      <td>489978</td>\n",
       "      <td>-8075</td>\n",
       "      <td>12266</td>\n",
       "      <td>23692505</td>\n",
       "      <td>...</td>\n",
       "      <td>257670989</td>\n",
       "      <td>65971834.0</td>\n",
       "      <td>None</td>\n",
       "      <td>29.0</td>\n",
       "      <td>NaN</td>\n",
       "      <td>NaN</td>\n",
       "      <td>9555593.0</td>\n",
       "      <td>14808293.0</td>\n",
       "      <td>98800734.0</td>\n",
       "      <td>158870255.0</td>\n",
       "    </tr>\n",
       "    <tr>\n",
       "      <th>1009</th>\n",
       "      <td>2022-11-29 17:00:00</td>\n",
       "      <td>ITA</td>\n",
       "      <td>8179</td>\n",
       "      <td>289</td>\n",
       "      <td>8468</td>\n",
       "      <td>492208</td>\n",
       "      <td>500676</td>\n",
       "      <td>10698</td>\n",
       "      <td>50626</td>\n",
       "      <td>23732286</td>\n",
       "      <td>...</td>\n",
       "      <td>257958950</td>\n",
       "      <td>66016484.0</td>\n",
       "      <td>None</td>\n",
       "      <td>41.0</td>\n",
       "      <td>NaN</td>\n",
       "      <td>NaN</td>\n",
       "      <td>9563512.0</td>\n",
       "      <td>14850994.0</td>\n",
       "      <td>98840305.0</td>\n",
       "      <td>159118645.0</td>\n",
       "    </tr>\n",
       "    <tr>\n",
       "      <th>1010</th>\n",
       "      <td>2022-11-30 17:00:00</td>\n",
       "      <td>ITA</td>\n",
       "      <td>8361</td>\n",
       "      <td>303</td>\n",
       "      <td>8664</td>\n",
       "      <td>494163</td>\n",
       "      <td>502827</td>\n",
       "      <td>2151</td>\n",
       "      <td>36981</td>\n",
       "      <td>23767026</td>\n",
       "      <td>...</td>\n",
       "      <td>258171545</td>\n",
       "      <td>66052975.0</td>\n",
       "      <td>None</td>\n",
       "      <td>50.0</td>\n",
       "      <td>NaN</td>\n",
       "      <td>NaN</td>\n",
       "      <td>9567925.0</td>\n",
       "      <td>14883558.0</td>\n",
       "      <td>98879379.0</td>\n",
       "      <td>159292166.0</td>\n",
       "    </tr>\n",
       "    <tr>\n",
       "      <th>1011</th>\n",
       "      <td>2022-12-01 17:00:00</td>\n",
       "      <td>ITA</td>\n",
       "      <td>8458</td>\n",
       "      <td>320</td>\n",
       "      <td>8778</td>\n",
       "      <td>498391</td>\n",
       "      <td>507169</td>\n",
       "      <td>4342</td>\n",
       "      <td>36598</td>\n",
       "      <td>23799178</td>\n",
       "      <td>...</td>\n",
       "      <td>258382332</td>\n",
       "      <td>66089134.0</td>\n",
       "      <td>None</td>\n",
       "      <td>51.0</td>\n",
       "      <td>NaN</td>\n",
       "      <td>NaN</td>\n",
       "      <td>9573057.0</td>\n",
       "      <td>14915023.0</td>\n",
       "      <td>98917043.0</td>\n",
       "      <td>159465289.0</td>\n",
       "    </tr>\n",
       "  </tbody>\n",
       "</table>\n",
       "<p>1012 rows × 24 columns</p>\n",
       "</div>"
      ],
      "text/plain": [
       "                    data stato  ricoverati_con_sintomi  terapia_intensiva  \\\n",
       "0    2020-02-24 18:00:00   ITA                     101                 26   \n",
       "1    2020-02-25 18:00:00   ITA                     114                 35   \n",
       "2    2020-02-26 18:00:00   ITA                     128                 36   \n",
       "3    2020-02-27 18:00:00   ITA                     248                 56   \n",
       "4    2020-02-28 18:00:00   ITA                     345                 64   \n",
       "...                  ...   ...                     ...                ...   \n",
       "1007 2022-11-27 17:00:00   ITA                    7865                274   \n",
       "1008 2022-11-28 17:00:00   ITA                    8040                283   \n",
       "1009 2022-11-29 17:00:00   ITA                    8179                289   \n",
       "1010 2022-11-30 17:00:00   ITA                    8361                303   \n",
       "1011 2022-12-01 17:00:00   ITA                    8458                320   \n",
       "\n",
       "      totale_ospedalizzati  isolamento_domiciliare  totale_positivi  \\\n",
       "0                      127                      94              221   \n",
       "1                      150                     162              311   \n",
       "2                      164                     221              385   \n",
       "3                      304                     284              588   \n",
       "4                      409                     412              821   \n",
       "...                    ...                     ...              ...   \n",
       "1007                  8139                  489914           498053   \n",
       "1008                  8323                  481655           489978   \n",
       "1009                  8468                  492208           500676   \n",
       "1010                  8664                  494163           502827   \n",
       "1011                  8778                  498391           507169   \n",
       "\n",
       "      variazione_totale_positivi  nuovi_positivi  dimessi_guariti  ...  \\\n",
       "0                              0             221                1  ...   \n",
       "1                             90              93                1  ...   \n",
       "2                             74              78                3  ...   \n",
       "3                            203             250               45  ...   \n",
       "4                            233             238               46  ...   \n",
       "...                          ...             ...              ...  ...   \n",
       "1007                        -194           23956         23672245  ...   \n",
       "1008                       -8075           12266         23692505  ...   \n",
       "1009                       10698           50626         23732286  ...   \n",
       "1010                        2151           36981         23767026  ...   \n",
       "1011                        4342           36598         23799178  ...   \n",
       "\n",
       "        tamponi  casi_testati  note  ingressi_terapia_intensiva  note_test  \\\n",
       "0          4324           NaN  None                         NaN        NaN   \n",
       "1          8623           NaN  None                         NaN        NaN   \n",
       "2          9587           NaN  None                         NaN        NaN   \n",
       "3         12014           NaN  None                         NaN        NaN   \n",
       "4         15695           NaN  None                         NaN        NaN   \n",
       "...         ...           ...   ...                         ...        ...   \n",
       "1007  257593104    65956542.0  None                        39.0        NaN   \n",
       "1008  257670989    65971834.0  None                        29.0        NaN   \n",
       "1009  257958950    66016484.0  None                        41.0        NaN   \n",
       "1010  258171545    66052975.0  None                        50.0        NaN   \n",
       "1011  258382332    66089134.0  None                        51.0        NaN   \n",
       "\n",
       "      note_casi totale_positivi_test_molecolare  \\\n",
       "0           NaN                             NaN   \n",
       "1           NaN                             NaN   \n",
       "2           NaN                             NaN   \n",
       "3           NaN                             NaN   \n",
       "4           NaN                             NaN   \n",
       "...         ...                             ...   \n",
       "1007        NaN                       9554305.0   \n",
       "1008        NaN                       9555593.0   \n",
       "1009        NaN                       9563512.0   \n",
       "1010        NaN                       9567925.0   \n",
       "1011        NaN                       9573057.0   \n",
       "\n",
       "      totale_positivi_test_antigenico_rapido  tamponi_test_molecolare  \\\n",
       "0                                        NaN                      NaN   \n",
       "1                                        NaN                      NaN   \n",
       "2                                        NaN                      NaN   \n",
       "3                                        NaN                      NaN   \n",
       "4                                        NaN                      NaN   \n",
       "...                                      ...                      ...   \n",
       "1007                              14797315.0               98786040.0   \n",
       "1008                              14808293.0               98800734.0   \n",
       "1009                              14850994.0               98840305.0   \n",
       "1010                              14883558.0               98879379.0   \n",
       "1011                              14915023.0               98917043.0   \n",
       "\n",
       "      tamponi_test_antigenico_rapido  \n",
       "0                                NaN  \n",
       "1                                NaN  \n",
       "2                                NaN  \n",
       "3                                NaN  \n",
       "4                                NaN  \n",
       "...                              ...  \n",
       "1007                     158807064.0  \n",
       "1008                     158870255.0  \n",
       "1009                     159118645.0  \n",
       "1010                     159292166.0  \n",
       "1011                     159465289.0  \n",
       "\n",
       "[1012 rows x 24 columns]"
      ]
     },
     "execution_count": 23,
     "metadata": {},
     "output_type": "execute_result"
    }
   ],
   "source": [
    "with open(\"data/covid19/dati-json/dpc-covid19-ita-andamento-nazionale.json\") as file:\n",
    "    covid19_frame = import_covid19(file)\n",
    "\n",
    "covid19_frame"
   ]
  },
  {
   "cell_type": "markdown",
   "metadata": {},
   "source": [
    "### Positivi a COVID-19 nel tempo"
   ]
  },
  {
   "cell_type": "markdown",
   "metadata": {},
   "source": [
    "Per verificare che il dataset sia stato importato correttamente, si realizza il grafico a linea dei pazienti positivi al COVID-19 nel tempo:"
   ]
  },
  {
   "cell_type": "code",
   "execution_count": 24,
   "metadata": {},
   "outputs": [
    {
     "data": {
      "image/png": "[encoded data removed]",
      "text/plain": [
       "<Figure size 640x480 with 1 Axes>"
      ]
     },
     "metadata": {},
     "output_type": "display_data"
    }
   ],
   "source": [
    "### Datasets ###\n",
    "x = covid19_frame[\"data\"]\n",
    "y = covid19_frame[\"totale_positivi\"]\n",
    "\n",
    "### Chart ###\n",
    "plt.plot(x, y)\n",
    "plt.title(\"Positivi a COVID-19 nel tempo\")\n",
    "pca = plt.gca()\n",
    "\n",
    "### X ###\n",
    "plt.xlabel(\"Data\")\n",
    "plt.xticks(\n",
    "   ticks=x.iloc[::90], \n",
    "   labels=x.map(lambda d: d.strftime(\"%Y-%m\")).iloc[::90],\n",
    "   minor=False,\n",
    "   rotation=90,\n",
    ")\n",
    "plt.xticks(\n",
    "   ticks=x.iloc[::30],\n",
    "   minor=True,\n",
    ")\n",
    "\n",
    "### Y ###\n",
    "plt.ylabel(\"Positivi\")\n",
    "pca.yaxis.set_major_locator(matplotlib.ticker.MaxNLocator(5))\n",
    "pca.yaxis.set_minor_locator(matplotlib.ticker.AutoMinorLocator(4))\n",
    "plt.ticklabel_format(axis=\"y\", style=\"plain\")\n",
    "\n",
    "### Grid ###\n",
    "plt.grid(visible=True, which=\"major\")\n",
    "plt.grid(visible=True, which=\"minor\", dashes=(2, 4))\n",
    "\n",
    "### Cleanup ###\n",
    "del x\n",
    "del y\n",
    "\n",
    "### Display ###\n",
    "plt.show()"
   ]
  }
 ],
 "metadata": {
  "kernelspec": {
   "display_name": "Python 3 (ipykernel)",
   "language": "python",
   "name": "python3"
  },
  "language_info": {
   "codemirror_mode": {
    "name": "ipython",
    "version": 3
   },
   "file_extension": ".py",
   "mimetype": "text/x-python",
   "name": "python",
   "nbconvert_exporter": "python",
   "pygments_lexer": "ipython3",
   "version": "3.10.8"
  },
  "vscode": {
   "interpreter": {
    "hash": "e7370f93d1d0cde622a1f8e1c04877d8463912d04d973331ad4851f04de6915a"
   }
  }
 },
 "nbformat": 4,
 "nbformat_minor": 4
}
