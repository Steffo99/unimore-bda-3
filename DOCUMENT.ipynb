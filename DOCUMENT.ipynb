{
 "cells": [
  {
   "cell_type": "markdown",
   "metadata": {},
   "source": [
    "[ Stefano Pigozzi | Tema Data Analytics | Big Data Analytics | A.A. 2022/2023 | Unimore ]"
   ]
  },
  {
   "cell_type": "markdown",
   "metadata": {},
   "source": [
    "# Attività online correlata all'avanzare della pandemia COVID"
   ]
  },
  {
   "cell_type": "markdown",
   "metadata": {},
   "source": [
    "> ### Data processing e exploratory data analytics su dataset provenienti da più sorgenti\n",
    "> \n",
    "> L’attività da svolgere consiste nel:\n",
    "> 1. Scegliere due o più dataset provenienti da due o più sorgenti.  \n",
    ">     * Il dataset finale deve essere costituito almeno da due file.\n",
    "> 2. Usando [pandas](https://pandas.pydata.org/) implementare le operazioni di data processing necessarie (principalmente join e selezioni) per mettere in collegamento i dataset e per preparare i dati al passo successivo\n",
    "> 3. Usando pacchetti Python quali [pandas](https://pandas.pydata.org/), [scipy](https://scipy.org/), [matplotlib](https://matplotlib.org/) e [seaborn]https://seaborn.pydata.org/) implementare attività di data cleaning, exploratory data analysis estraendo dati statistici e di visualizzazione dei risultati attraverso il quale sia possibile \"raccontare qualcosa sui dati\" (storytelling), eventualmente partendo da dei quesiti di ricerca. L'uso\n",
    "dei pacchetti non deve necessariamente essere limitato alle istruzioni viste a lezione. Le documentazioni dei pacchetti stessi e i volumi messi a disposizione su Dolly fornisco spunti d’uso interessanti!\n",
    "> 4. Produrre un notebook Jupyter (https://jupyter.org/) che contenga:\n",
    ">     * una introduzione all’argomento scelto, alle sorgenti dati e agli obiettivi del progetto specificando\n",
    "eventualmente i quesiti di ricerca\n",
    ">     * una sezione per ogni fase del progetto di data analytics"
   ]
  },
  {
   "cell_type": "markdown",
   "source": [
    "## Abstract"
   ],
   "metadata": {
    "collapsed": false
   }
  },
  {
   "cell_type": "markdown",
   "source": [
    "<!-- TODO -->"
   ],
   "metadata": {
    "collapsed": false
   }
  },
  {
   "cell_type": "markdown",
   "metadata": {},
   "source": [
    "## Installazione requisiti"
   ]
  },
  {
   "cell_type": "markdown",
   "metadata": {},
   "source": [
    "Per funzionare, questo progetto necessita di alcuni package Python, scaricabili da [PyPI](https://pypi.org/).\n",
    "\n",
    "In particolare:\n",
    "\n",
    "* [numpy](https://pypi.org/project/numpy/1.23.5/)\n",
    "* [scipy](https://pypi.org/project/scipy/1.9.3/)\n",
    "* [pandas](https://pypi.org/project/pandas/1.5.2/)\n",
    "* [matplotlib](https://pypi.org/project/matplotlib/3.6.2/)"
   ]
  },
  {
   "cell_type": "code",
   "execution_count": null,
   "metadata": {
    "pycharm": {
     "is_executing": true
    }
   },
   "outputs": [],
   "source": [
    "%pip install numpy==1.23.5 scipy==1.9.3 pandas==1.5.2 matplotlib==3.6.2"
   ]
  }
 ],
 "metadata": {
  "kernelspec": {
   "display_name": "Python 3 (ipykernel)",
   "language": "python",
   "name": "python3"
  },
  "language_info": {
   "codemirror_mode": {
    "name": "ipython",
    "version": 3
   },
   "file_extension": ".py",
   "mimetype": "text/x-python",
   "name": "python",
   "nbconvert_exporter": "python",
   "pygments_lexer": "ipython3",
   "version": "3.10.8"
  },
  "vscode": {
   "interpreter": {
    "hash": "e7370f93d1d0cde622a1f8e1c04877d8463912d04d973331ad4851f04de6915a"
   }
  }
 },
 "nbformat": 4,
 "nbformat_minor": 2
}
